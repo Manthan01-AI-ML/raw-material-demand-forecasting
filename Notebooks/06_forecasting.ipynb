{
 "cells": [
  {
   "cell_type": "code",
   "execution_count": 1,
   "id": "369bf120-791e-47a6-a497-12b4300c2fb0",
   "metadata": {},
   "outputs": [],
   "source": [
    "import os\n",
    "import pandas as pd\n",
    "import numpy as np\n",
    "import joblib\n",
    "from datetime import timedelta"
   ]
  },
  {
   "cell_type": "code",
   "execution_count": 2,
   "id": "94f90b86-9b06-4aa0-ace6-6021fdc145d7",
   "metadata": {},
   "outputs": [],
   "source": [
    "# Load feature-engineered data\n",
    "df = pd.read_csv(\"../data/processed/feature_data.csv\")\n",
    "df['Date'] = pd.to_datetime(df['Date'])\n",
    "df = df.sort_values(\"Date\")\n"
   ]
  },
  {
   "cell_type": "code",
   "execution_count": 3,
   "id": "74ef32ab-f60e-403b-a779-71e1050031fe",
   "metadata": {},
   "outputs": [],
   "source": [
    "# Load models\n",
    "rf = joblib.load(\"../models/rf_model.pkl\")\n",
    "xg = joblib.load(\"../models/xgb_model.pkl\")\n"
   ]
  },
  {
   "cell_type": "code",
   "execution_count": 4,
   "id": "7a170590-8948-4f1a-b37e-4483885009f2",
   "metadata": {},
   "outputs": [],
   "source": [
    "# Forecast horizon (say 90 days = ~3 months)\n",
    "forecast_horizon = 90\n"
   ]
  },
  {
   "cell_type": "code",
   "execution_count": 5,
   "id": "2855b031-47bb-4f16-843c-22943706690e",
   "metadata": {},
   "outputs": [],
   "source": [
    "# Start from the last known date\n",
    "last_date = df['Date'].max()\n",
    "future_dates = pd.date_range(start=last_date + timedelta(days=1), periods=forecast_horizon, freq=\"D\")\n",
    "\n"
   ]
  },
  {
   "cell_type": "code",
   "execution_count": 8,
   "id": "13588f64-96d5-4bcc-98c4-f558b3f6d11f",
   "metadata": {},
   "outputs": [],
   "source": [
    "# Feature columns used during training\n",
    "feature_cols = [c for c in df.columns if c not in [\"Date\",\"Quantity_Consumed\"]]\n",
    "\n",
    "last_data = df.iloc[-30:].copy()\n",
    "current_data = last_data.copy()\n",
    "\n",
    "future_preds = []\n",
    "\n",
    "for d in future_dates:\n",
    "    row = {\"Date\": d}\n",
    "\n",
    "    # calendar features\n",
    "    row[\"month\"] = d.month\n",
    "    row[\"dayofweek\"] = d.dayofweek\n",
    "    row[\"Year\"] = d.year   # <- include because it was in training set\n",
    "\n",
    "    # lag features\n",
    "    for lag in [7,14,30]:\n",
    "        row[f\"lag_{lag}\"] = current_data[\"Quantity_Consumed\"].iloc[-lag]\n",
    "\n",
    "    # rolling averages\n",
    "    row[\"rolling_7\"] = current_data[\"Quantity_Consumed\"].iloc[-7:].mean()\n",
    "    row[\"rolling_30\"] = current_data[\"Quantity_Consumed\"].iloc[-30:].mean()\n",
    "\n",
    "    # carry forward last known Lead_Time & Sales_Volume\n",
    "    row[\"Lead_Time\"] = current_data[\"Lead_Time\"].iloc[-1]\n",
    "    row[\"Sales_Volume\"] = current_data[\"Sales_Volume\"].iloc[-1]\n",
    "\n",
    "    # copy dummy columns (Materials, Vendors, Locations)\n",
    "    for col in feature_cols:\n",
    "        if col not in row and col != \"Date\":\n",
    "            if col in current_data.columns:\n",
    "                row[col] = current_data[col].iloc[-1]\n",
    "            else:\n",
    "                row[col] = 0   # fallback if missing\n",
    "\n",
    "    # convert to DF\n",
    "    row_df = pd.DataFrame([row])\n",
    "    X_row = row_df[feature_cols]   # ensure same feature order\n",
    "\n",
    "    # predictions\n",
    "    rf_pred = rf.predict(X_row)[0]\n",
    "    xg_pred = xg.predict(X_row)[0]\n",
    "    hyb_pred = (rf_pred + xg_pred) / 2\n",
    "\n",
    "    row[\"Forecast\"] = hyb_pred\n",
    "\n",
    "    # update history for next iteration\n",
    "    new_row = row_df.copy()\n",
    "    new_row[\"Quantity_Consumed\"] = hyb_pred\n",
    "    current_data = pd.concat([current_data, new_row], ignore_index=True)\n",
    "\n",
    "    future_preds.append(row)\n",
    "\n",
    "forecast_df = pd.DataFrame(future_preds)\n"
   ]
  },
  {
   "cell_type": "code",
   "execution_count": null,
   "id": "23fb5591-af8c-41f4-80a7-3dd76516ac41",
   "metadata": {},
   "outputs": [],
   "source": []
  },
  {
   "cell_type": "code",
   "execution_count": null,
   "id": "a7bc4acf-1d9e-4331-b61e-962a2a772f7b",
   "metadata": {},
   "outputs": [],
   "source": []
  },
  {
   "cell_type": "code",
   "execution_count": null,
   "id": "1d8fc0ec-34b0-4cd2-a1fe-c286f2a77eb4",
   "metadata": {},
   "outputs": [],
   "source": []
  },
  {
   "cell_type": "code",
   "execution_count": null,
   "id": "fb9c6538-35d3-4366-b04b-326970f5b3d3",
   "metadata": {},
   "outputs": [],
   "source": []
  },
  {
   "cell_type": "code",
   "execution_count": null,
   "id": "eabd4814-1e74-44cc-8434-1b678beb1de7",
   "metadata": {},
   "outputs": [],
   "source": []
  },
  {
   "cell_type": "code",
   "execution_count": null,
   "id": "9f6d8be7-9034-47e7-a531-d3031eef4275",
   "metadata": {},
   "outputs": [],
   "source": []
  },
  {
   "cell_type": "code",
   "execution_count": null,
   "id": "648c2b18-8c84-47bc-b5d5-d80a2a38de43",
   "metadata": {},
   "outputs": [],
   "source": []
  },
  {
   "cell_type": "code",
   "execution_count": null,
   "id": "e3c78112-d4a9-4d52-aafe-5e893f033876",
   "metadata": {},
   "outputs": [],
   "source": []
  },
  {
   "cell_type": "code",
   "execution_count": null,
   "id": "3ac71576-e6ff-49c1-835a-7a71041b9cd1",
   "metadata": {},
   "outputs": [],
   "source": []
  },
  {
   "cell_type": "code",
   "execution_count": null,
   "id": "b0bf8aa2-e411-4c23-bf60-f38b8fea2f41",
   "metadata": {},
   "outputs": [],
   "source": []
  },
  {
   "cell_type": "code",
   "execution_count": null,
   "id": "b6021524-194f-4b37-af38-f911c83ceb7a",
   "metadata": {},
   "outputs": [],
   "source": []
  },
  {
   "cell_type": "code",
   "execution_count": null,
   "id": "e0e1f8c4-b58f-4c4f-a20f-d060fdeaf10b",
   "metadata": {},
   "outputs": [],
   "source": []
  }
 ],
 "metadata": {
  "kernelspec": {
   "display_name": "Python 3 (ipykernel)",
   "language": "python",
   "name": "python3"
  },
  "language_info": {
   "codemirror_mode": {
    "name": "ipython",
    "version": 3
   },
   "file_extension": ".py",
   "mimetype": "text/x-python",
   "name": "python",
   "nbconvert_exporter": "python",
   "pygments_lexer": "ipython3",
   "version": "3.11.0"
  }
 },
 "nbformat": 4,
 "nbformat_minor": 5
}
