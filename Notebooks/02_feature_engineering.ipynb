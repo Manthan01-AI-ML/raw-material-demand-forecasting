{
 "cells": [
  {
   "cell_type": "code",
   "execution_count": 1,
   "id": "0fe6fbb1-7ff7-42cc-a05a-d865eaebf250",
   "metadata": {},
   "outputs": [],
   "source": [
    "import pandas as pd\n",
    "import numpy as np\n",
    "import os\n"
   ]
  },
  {
   "cell_type": "code",
   "execution_count": 2,
   "id": "d52ed94e-a6c4-40eb-a056-718da3eb643f",
   "metadata": {},
   "outputs": [],
   "source": [
    "# Load cleaned data\n",
    "df = pd.read_csv(\"../data/processed/cleaned_data.csv\")\n",
    "df['Date'] = pd.to_datetime(df['Date'])"
   ]
  },
  {
   "cell_type": "code",
   "execution_count": 3,
   "id": "51e3737f-e044-41c0-bd96-933f9c11333e",
   "metadata": {},
   "outputs": [
    {
     "name": "stdout",
     "output_type": "stream",
     "text": [
      "Data after sorting: (2193, 9)\n"
     ]
    }
   ],
   "source": [
    "# okay, set date as index (time-series needs it)\n",
    "df = df.sort_values(by=[\"Material_Name\",\"Date\"])\n",
    "print(\"Data after sorting:\", df.shape)\n"
   ]
  },
  {
   "cell_type": "code",
   "execution_count": 4,
   "id": "ad3d049b-ef7c-4e22-946a-3daf30e26ffb",
   "metadata": {},
   "outputs": [
    {
     "name": "stdout",
     "output_type": "stream",
     "text": [
      "         Date Material_Name  Quantity_Consumed  Lead_Time  Sales_Volume  \\\n",
      "1  2023-01-01        Cement                148         14           144   \n",
      "4  2023-01-02        Cement                143         14           133   \n",
      "7  2023-01-03        Cement                128         11           129   \n",
      "10 2023-01-04        Cement                146          6           149   \n",
      "13 2023-01-05        Cement                142         12           143   \n",
      "\n",
      "   Vendor_Name   Location  Month  Year  \n",
      "1     Vendor_B  Ghaziabad      1  2023  \n",
      "4     Vendor_A      Delhi      1  2023  \n",
      "7     Vendor_B      Noida      1  2023  \n",
      "10    Vendor_C  Ghaziabad      1  2023  \n",
      "13    Vendor_B      Delhi      1  2023  \n"
     ]
    }
   ],
   "source": [
    "# Quick check\n",
    "print(df.head())"
   ]
  },
  {
   "cell_type": "code",
   "execution_count": 6,
   "id": "63695dd4-aa09-4d17-9746-a145dd75e6b9",
   "metadata": {},
   "outputs": [],
   "source": [
    "# Feature Engineering\n",
    "final_data = []\n",
    "\n",
    "for mat in df['Material_Name'].unique():\n",
    "    temp = df[df['Material_Name']==mat].copy()\n",
    "    temp = temp.set_index('Date')\n",
    "\n",
    "    # lag features (demand history)\n",
    "    for lag in [7, 14, 30]:\n",
    "        temp[f'lag_{lag}'] = temp['Quantity_Consumed'].shift(lag)\n",
    "\n",
    "    # rolling mean features\n",
    "    temp['rolling_7'] = temp['Quantity_Consumed'].rolling(window=7).mean()\n",
    "    temp['rolling_30'] = temp['Quantity_Consumed'].rolling(window=30).mean()\n",
    "\n",
    "    # month & dayofweek as seasonality proxies\n",
    "    temp['month'] = temp.index.month\n",
    "    temp['dayofweek'] = temp.index.dayofweek\n",
    "\n",
    "    final_data.append(temp)\n"
   ]
  },
  {
   "cell_type": "code",
   "execution_count": 7,
   "id": "5ff97f68-d806-47e4-b6ef-18048d3e43ac",
   "metadata": {},
   "outputs": [],
   "source": [
    "# Combine back\n",
    "df_feat = pd.concat(final_data)\n"
   ]
  },
  {
   "cell_type": "code",
   "execution_count": 8,
   "id": "8bd1f39d-4f9a-48a7-8899-131cee5ee6df",
   "metadata": {},
   "outputs": [],
   "source": [
    "# Reset index\n",
    "df_feat = df_feat.reset_index()"
   ]
  },
  {
   "cell_type": "code",
   "execution_count": 9,
   "id": "7f5ec852-02b0-4d32-a0b2-92cb0e4c4b4c",
   "metadata": {},
   "outputs": [],
   "source": [
    "# Outlier Handling: cap at 99th percentile\n",
    "cap_val = df_feat['Quantity_Consumed'].quantile(0.99)\n",
    "df_feat['Quantity_Consumed'] = np.where(df_feat['Quantity_Consumed']>cap_val, cap_val, df_feat['Quantity_Consumed'])"
   ]
  },
  {
   "cell_type": "code",
   "execution_count": 10,
   "id": "c80e9c99-405c-43d7-9e50-e50480a166cd",
   "metadata": {},
   "outputs": [],
   "source": [
    "# Encode categorical vars\n",
    "df_feat = pd.get_dummies(df_feat, columns=['Material_Name','Vendor_Name','Location'], drop_first=True)\n"
   ]
  },
  {
   "cell_type": "code",
   "execution_count": 12,
   "id": "5aed8080-a257-4391-93fc-8d846505e1ff",
   "metadata": {},
   "outputs": [
    {
     "name": "stdout",
     "output_type": "stream",
     "text": [
      "Final dataset shape after feature engineering: (2103, 19)\n",
      "        Date  Quantity_Consumed  Lead_Time  Sales_Volume  Month  Year  lag_7  \\\n",
      "0 2023-01-31              146.0         14           148      1  2023  160.0   \n",
      "1 2023-02-01              162.0         13           170      2  2023  157.0   \n",
      "2 2023-02-02              167.0          9           168      2  2023  158.0   \n",
      "3 2023-02-03              141.0         14           135      2  2023  146.0   \n",
      "4 2023-02-04              156.0          9           153      2  2023  157.0   \n",
      "\n",
      "   lag_14  lag_30   rolling_7  rolling_30  month  dayofweek  \\\n",
      "0   154.0   148.0  153.714286  151.866667      1          1   \n",
      "1   144.0   143.0  154.428571  152.500000      2          2   \n",
      "2   159.0   128.0  155.714286  153.800000      2          3   \n",
      "3   145.0   146.0  155.000000  153.633333      2          4   \n",
      "4   152.0   142.0  154.857143  154.100000      2          5   \n",
      "\n",
      "   Material_Name_Sand  Material_Name_TMT_Steel  Vendor_Name_Vendor_B  \\\n",
      "0               False                    False                 False   \n",
      "1               False                    False                 False   \n",
      "2               False                    False                  True   \n",
      "3               False                    False                  True   \n",
      "4               False                    False                 False   \n",
      "\n",
      "   Vendor_Name_Vendor_C  Location_Ghaziabad  Location_Noida  \n",
      "0                 False               False            True  \n",
      "1                  True               False            True  \n",
      "2                 False                True           False  \n",
      "3                 False                True           False  \n",
      "4                  True               False           False  \n"
     ]
    }
   ],
   "source": [
    "# Drop NA (from lag/rolling)\n",
    "df_feat = df_feat.dropna().reset_index(drop=True)\n",
    "\n",
    "print(\"Final dataset shape after feature engineering:\", df_feat.shape)\n",
    "print(df_feat.head())"
   ]
  },
  {
   "cell_type": "code",
   "execution_count": 13,
   "id": "50296bfb-1ae7-404e-a3ba-5a3ea1b7d64d",
   "metadata": {},
   "outputs": [
    {
     "name": "stdout",
     "output_type": "stream",
     "text": [
      "✅ Feature-engineered dataset saved to data/processed/feature_data.csv\n"
     ]
    }
   ],
   "source": [
    "# Save processed dataset\n",
    "os.makedirs(\"../data/processed\", exist_ok=True)\n",
    "df_feat.to_csv(\"../data/processed/feature_data.csv\", index=False)\n",
    "print(\"✅ Feature-engineered dataset saved to data/processed/feature_data.csv\")"
   ]
  },
  {
   "cell_type": "code",
   "execution_count": null,
   "id": "428ff7c8-403a-4771-b9fa-7b80a161c543",
   "metadata": {},
   "outputs": [],
   "source": []
  },
  {
   "cell_type": "code",
   "execution_count": null,
   "id": "1d386faa-8d29-4d02-a6f0-03387b4af3ea",
   "metadata": {},
   "outputs": [],
   "source": []
  },
  {
   "cell_type": "code",
   "execution_count": null,
   "id": "d54603b1-52ea-44e9-9c80-d5d371938c6f",
   "metadata": {},
   "outputs": [],
   "source": []
  },
  {
   "cell_type": "code",
   "execution_count": null,
   "id": "ae252219-cf86-4242-a0ca-81c64fe4d9cc",
   "metadata": {},
   "outputs": [],
   "source": []
  },
  {
   "cell_type": "code",
   "execution_count": null,
   "id": "ef58cd6a-91ef-4d25-8a94-3164eb79d88e",
   "metadata": {},
   "outputs": [],
   "source": []
  },
  {
   "cell_type": "code",
   "execution_count": null,
   "id": "9f3d5dbd-06de-47d0-9bd7-14914e461458",
   "metadata": {},
   "outputs": [],
   "source": []
  },
  {
   "cell_type": "code",
   "execution_count": null,
   "id": "ada44e15-7b9d-476a-b41a-e38754f53afb",
   "metadata": {},
   "outputs": [],
   "source": []
  },
  {
   "cell_type": "code",
   "execution_count": null,
   "id": "6277a7d6-61ca-49c2-932f-28f519a50a4a",
   "metadata": {},
   "outputs": [],
   "source": []
  },
  {
   "cell_type": "code",
   "execution_count": null,
   "id": "2358d411-3e8e-4550-b770-28e4221b33d9",
   "metadata": {},
   "outputs": [],
   "source": []
  },
  {
   "cell_type": "code",
   "execution_count": null,
   "id": "11a10f43-79ac-40e9-a48e-559bde11cbc0",
   "metadata": {},
   "outputs": [],
   "source": []
  },
  {
   "cell_type": "code",
   "execution_count": null,
   "id": "bc59be51-b87f-459f-8992-9e7ad7acf087",
   "metadata": {},
   "outputs": [],
   "source": []
  },
  {
   "cell_type": "code",
   "execution_count": null,
   "id": "0975a4ab-8b1c-463c-935e-62ee8b3a6c6f",
   "metadata": {},
   "outputs": [],
   "source": []
  },
  {
   "cell_type": "code",
   "execution_count": null,
   "id": "1b3df1fe-21a4-4f7d-8c38-5d1bbe2dc83f",
   "metadata": {},
   "outputs": [],
   "source": []
  },
  {
   "cell_type": "code",
   "execution_count": null,
   "id": "d9b0d299-7337-4405-add8-aba2440cd04f",
   "metadata": {},
   "outputs": [],
   "source": []
  },
  {
   "cell_type": "code",
   "execution_count": null,
   "id": "2006da58-34eb-44d4-a670-0a11065317da",
   "metadata": {},
   "outputs": [],
   "source": []
  },
  {
   "cell_type": "code",
   "execution_count": null,
   "id": "62ca19c9-92e2-46f1-8337-3f913c703edc",
   "metadata": {},
   "outputs": [],
   "source": []
  },
  {
   "cell_type": "code",
   "execution_count": null,
   "id": "26c4b91f-8917-4d92-893f-25a52715ddd1",
   "metadata": {},
   "outputs": [],
   "source": []
  },
  {
   "cell_type": "code",
   "execution_count": null,
   "id": "1d7c85ef-b059-4c63-822f-e281a9106eea",
   "metadata": {},
   "outputs": [],
   "source": []
  },
  {
   "cell_type": "code",
   "execution_count": null,
   "id": "60500bc0-885e-4518-9207-dfd59b3ad7dc",
   "metadata": {},
   "outputs": [],
   "source": []
  },
  {
   "cell_type": "code",
   "execution_count": null,
   "id": "571a1012-8151-4dca-bf14-35e80ab73ba6",
   "metadata": {},
   "outputs": [],
   "source": []
  },
  {
   "cell_type": "code",
   "execution_count": null,
   "id": "fb8bf684-dbe6-4a00-bd8b-2862779f1b28",
   "metadata": {},
   "outputs": [],
   "source": []
  },
  {
   "cell_type": "code",
   "execution_count": null,
   "id": "1d01d1b8-afc5-4bb3-84f1-e18655ff04c8",
   "metadata": {},
   "outputs": [],
   "source": []
  },
  {
   "cell_type": "code",
   "execution_count": null,
   "id": "825f0981-8bc6-47ba-b655-6bb49a92149a",
   "metadata": {},
   "outputs": [],
   "source": []
  },
  {
   "cell_type": "code",
   "execution_count": null,
   "id": "e6680413-c3c0-4cde-b945-86039dd49151",
   "metadata": {},
   "outputs": [],
   "source": []
  }
 ],
 "metadata": {
  "kernelspec": {
   "display_name": "Python 3 (ipykernel)",
   "language": "python",
   "name": "python3"
  },
  "language_info": {
   "codemirror_mode": {
    "name": "ipython",
    "version": 3
   },
   "file_extension": ".py",
   "mimetype": "text/x-python",
   "name": "python",
   "nbconvert_exporter": "python",
   "pygments_lexer": "ipython3",
   "version": "3.11.0"
  }
 },
 "nbformat": 4,
 "nbformat_minor": 5
}
